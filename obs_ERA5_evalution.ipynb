{
 "cells": [
  {
   "cell_type": "code",
   "execution_count": 1,
   "metadata": {},
   "outputs": [],
   "source": [
    "import pandas as pd"
   ]
  },
  {
   "cell_type": "code",
   "execution_count": 11,
   "metadata": {},
   "outputs": [],
   "source": [
    "df_obs = pd.read_csv(\"Белгород-Днестровский.csv\", parse_dates = True, index_col = 'Unnamed: 0')\n",
    "df_ERA5 = pd.read_csv(\"Bilhorod_Dnistrovsky.csv\", index_col = 'date')\n"
   ]
  },
  {
   "cell_type": "code",
   "execution_count": 19,
   "metadata": {},
   "outputs": [],
   "source": [
    "df_obs_ERA5 = df_obs.merge(df_ERA5[\"pcp\"], left_index = True, right_index = True)\n",
    "df_obs_ERA5 = df_obs_ERA5[df_obs_ERA5[\"t_aver\"].notnull()]     # Виключення дат, коли не було спостережень (коли клітинки пусті)\n",
    "df_obs_ERA5['pcp_y'] = round(df_obs_ERA5['pcp_y'], 1)          # Округлення значень ERA5 до десятих\n"
   ]
  },
  {
   "cell_type": "code",
   "execution_count": 22,
   "metadata": {},
   "outputs": [],
   "source": [
    "true_positive = len(df_obs_ERA5[(df_obs_ERA5[\"pcp_cor_Golubev_with_C\"] > 0) & (df_obs_ERA5[\"pcp_y\"] > 0)])\n",
    "false_positive = len(df_obs_ERA5[(df_obs_ERA5[\"pcp_cor_Golubev_with_C\"] == 0) & (df_obs_ERA5[\"pcp_y\"] > 0)])\n",
    "true_negative = len(df_obs_ERA5[(df_obs_ERA5[\"pcp_cor_Golubev_with_C\"] == 0) & (df_obs_ERA5[\"pcp_y\"] == 0)])\n",
    "false_negative = len(df_obs_ERA5[(df_obs_ERA5[\"pcp_cor_Golubev_with_C\"] > 0) & (df_obs_ERA5[\"pcp_y\"] == 0)])"
   ]
  },
  {
   "cell_type": "code",
   "execution_count": null,
   "metadata": {},
   "outputs": [],
   "source": []
  }
 ],
 "metadata": {
  "kernelspec": {
   "display_name": "Python [conda env:root] *",
   "language": "python",
   "name": "conda-root-py"
  },
  "language_info": {
   "codemirror_mode": {
    "name": "ipython",
    "version": 3
   },
   "file_extension": ".py",
   "mimetype": "text/x-python",
   "name": "python",
   "nbconvert_exporter": "python",
   "pygments_lexer": "ipython3",
   "version": "3.7.4"
  }
 },
 "nbformat": 4,
 "nbformat_minor": 2
}
